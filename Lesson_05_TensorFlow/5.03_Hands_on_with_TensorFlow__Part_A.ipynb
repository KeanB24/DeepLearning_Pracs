{
 "cells": [
  {
   "cell_type": "markdown",
   "metadata": {
    "id": "r5DYPXQks8W8"
   },
   "source": [
    "# __Hands-on with TensorFlow: Part A__\n",
    "\n",
    "Let's see how TensorFlow works and build a deep neural network model using the MNIST dataset."
   ]
  },
  {
   "cell_type": "markdown",
   "metadata": {
    "id": "-ECDrQx60xoq"
   },
   "source": [
    "## Steps to be followed:\n",
    "1. Import TensorFlow\n",
    "2. Load the MNIST dataset\n",
    "3. Create the model\n",
    "4. Get predictions from the model\n",
    "5. Apply softmax activation to the predictions\n",
    "6. Define the loss function\n",
    "7. Compile the model\n",
    "8. Train the model\n",
    "9. Evaluate the model\n",
    "10. Create a probability model"
   ]
  },
  {
   "cell_type": "markdown",
   "metadata": {
    "id": "FVLJK59QIE4L"
   },
   "source": [
    "## Step 1: Import TensorFlow\n",
    "\n",
    "- Import TensorFlow and check its version.\n"
   ]
  },
  {
   "cell_type": "code",
   "execution_count": 2,
   "metadata": {
    "colab": {
     "base_uri": "https://localhost:8080/"
    },
    "executionInfo": {
     "elapsed": 11736,
     "status": "ok",
     "timestamp": 1719078406836,
     "user": {
      "displayName": "Aleena Raj",
      "userId": "16635257578699511263"
     },
     "user_tz": -330
    },
    "id": "u2tOxjHDHMKV",
    "outputId": "13efb3b5-0eb2-4f51-d62f-27285caa6f32"
   },
   "outputs": [
    {
     "name": "stdout",
     "output_type": "stream",
     "text": [
      "TensorFlow version: 2.13.0\n"
     ]
    }
   ],
   "source": [
    "import os\n",
    "os.environ['TF_CPP_MIN_LOG_LEVEL'] = '2'\n",
    "\n",
    "import tensorflow as tf\n",
    "print(\"TensorFlow version:\", tf.__version__)"
   ]
  },
  {
   "cell_type": "markdown",
   "metadata": {
    "id": "9Kzn0RkDJISF"
   },
   "source": [
    "## Step 2: Load the MNIST dataset\n",
    "\n",
    "- Load the MNIST dataset and normalize the input data by dividing the train and test sets by 255. The pixel values of the images are divided by 255.0 to normalize them to the range [0, 1]\n",
    "\n"
   ]
  },
  {
   "cell_type": "markdown",
   "metadata": {
    "id": "U2eAc9v_RRl0"
   },
   "source": [
    "The MNIST dataset is a large collection of handwritten digits commonly used for training and testing in the field of machine learning. It is one of the most well-known datasets for evaluating the performance of image processing and pattern recognition algorithms."
   ]
  },
  {
   "cell_type": "code",
   "execution_count": 3,
   "metadata": {
    "colab": {
     "base_uri": "https://localhost:8080/"
    },
    "executionInfo": {
     "elapsed": 2056,
     "status": "ok",
     "timestamp": 1719078414822,
     "user": {
      "displayName": "Aleena Raj",
      "userId": "16635257578699511263"
     },
     "user_tz": -330
    },
    "id": "skfLvH-nHMKX",
    "outputId": "f31157b6-7bdc-45fd-a9a7-172b81bcd231"
   },
   "outputs": [],
   "source": [
    "mnist = tf.keras.datasets.mnist\n",
    "\n",
    "(x_train, y_train), (x_test, y_test) = mnist.load_data()\n",
    "x_train, x_test = x_train / 255.0, x_test / 255.0"
   ]
  },
  {
   "cell_type": "code",
   "execution_count": 7,
   "metadata": {},
   "outputs": [],
   "source": [
    "# x_train"
   ]
  },
  {
   "cell_type": "markdown",
   "metadata": {
    "id": "65QMopVDbRV_"
   },
   "source": [
    "__Observation:__\n",
    "- The dataset has been downloaded."
   ]
  },
  {
   "cell_type": "markdown",
   "metadata": {
    "id": "jNMOqMYQJLig"
   },
   "source": [
    "## Step 3: Create the model\n",
    "\n",
    "- Create a Sequential model with flatten, dense, and dropout layers.\n"
   ]
  },
  {
   "cell_type": "code",
   "execution_count": 17,
   "metadata": {
    "executionInfo": {
     "elapsed": 434,
     "status": "ok",
     "timestamp": 1719078605899,
     "user": {
      "displayName": "Aleena Raj",
      "userId": "16635257578699511263"
     },
     "user_tz": -330
    },
    "id": "mtWDjnQ-HMKY"
   },
   "outputs": [],
   "source": [
    "model = tf.keras.models.Sequential([\n",
    "  tf.keras.layers.Flatten(input_shape=(28, 28)),\n",
    "  tf.keras.layers.Dense(128, activation='relu'),\n",
    "  tf.keras.layers.Dropout(0.2),\n",
    "#   tf.keras.layers.Dense(10)\n",
    " tf.keras.layers.Dense(10, activation='softmax')\n",
    "    \n",
    "])"
   ]
  },
  {
   "cell_type": "markdown",
   "metadata": {
    "id": "-OeXA6kqJOS9"
   },
   "source": [
    "## Step 4: Get predictions from the model\n",
    "\n",
    "- Get the predictions from the model using the train data for one column, as the optimizer is not yet applied.\n"
   ]
  },
  {
   "cell_type": "code",
   "execution_count": 18,
   "metadata": {
    "colab": {
     "base_uri": "https://localhost:8080/"
    },
    "executionInfo": {
     "elapsed": 422,
     "status": "ok",
     "timestamp": 1719078639748,
     "user": {
      "displayName": "Aleena Raj",
      "userId": "16635257578699511263"
     },
     "user_tz": -330
    },
    "id": "EEXrOQBIHMKY",
    "outputId": "ef284433-2bf4-43b5-fac0-d70e9aeacdc7"
   },
   "outputs": [
    {
     "data": {
      "text/plain": [
       "array([[0.05417335, 0.10171273, 0.10952824, 0.04761361, 0.12064556,\n",
       "        0.09092385, 0.12442694, 0.1332063 , 0.10922365, 0.10854587]],\n",
       "      dtype=float32)"
      ]
     },
     "execution_count": 18,
     "metadata": {},
     "output_type": "execute_result"
    }
   ],
   "source": [
    "predictions = model(x_train[:1]).numpy()\n",
    "predictions"
   ]
  },
  {
   "cell_type": "markdown",
   "metadata": {
    "id": "253Rri_7bYGW"
   },
   "source": [
    "__Observation:__\n",
    "- An array of predicted values is displayed."
   ]
  },
  {
   "cell_type": "markdown",
   "metadata": {
    "id": "CRWveFSDJQ1g"
   },
   "source": [
    "## Step 5: Apply softmax activation to the predictions\n",
    "\n",
    "- Apply softmax activation to the predictions and print the output in terms of probabilities.\n"
   ]
  },
  {
   "cell_type": "code",
   "execution_count": 10,
   "metadata": {
    "colab": {
     "base_uri": "https://localhost:8080/"
    },
    "executionInfo": {
     "elapsed": 421,
     "status": "ok",
     "timestamp": 1719078650965,
     "user": {
      "displayName": "Aleena Raj",
      "userId": "16635257578699511263"
     },
     "user_tz": -330
    },
    "id": "wBEJwtZTHMKZ",
    "outputId": "00c9df66-7787-4dc7-d871-d87f0f4e11bf"
   },
   "outputs": [
    {
     "data": {
      "text/plain": [
       "array([[0.03786895, 0.17250021, 0.10153943, 0.11500139, 0.08280644,\n",
       "        0.09465282, 0.12639709, 0.04436111, 0.1698892 , 0.05498325]],\n",
       "      dtype=float32)"
      ]
     },
     "execution_count": 10,
     "metadata": {},
     "output_type": "execute_result"
    }
   ],
   "source": [
    "tf.nn.softmax(predictions).numpy()"
   ]
  },
  {
   "cell_type": "markdown",
   "metadata": {
    "id": "FbeDR5bZbk_x"
   },
   "source": [
    "__Observation:__\n",
    "- The predicted values in terms of probabilities are displayed as an array."
   ]
  },
  {
   "cell_type": "markdown",
   "metadata": {
    "id": "PI12JfM-JToW"
   },
   "source": [
    "## Step 6: Define the loss function\n",
    "\n",
    "- Create a loss function for the model.\n",
    "- Define the SparseCategoricalCrossentropy loss function.\n"
   ]
  },
  {
   "cell_type": "code",
   "execution_count": 11,
   "metadata": {
    "executionInfo": {
     "elapsed": 401,
     "status": "ok",
     "timestamp": 1719078654293,
     "user": {
      "displayName": "Aleena Raj",
      "userId": "16635257578699511263"
     },
     "user_tz": -330
    },
    "id": "nZ6pLV9zHMKZ"
   },
   "outputs": [],
   "source": [
    "loss_fn = tf.keras.losses.SparseCategoricalCrossentropy(from_logits=True)"
   ]
  },
  {
   "cell_type": "code",
   "execution_count": 12,
   "metadata": {
    "colab": {
     "base_uri": "https://localhost:8080/"
    },
    "executionInfo": {
     "elapsed": 4,
     "status": "ok",
     "timestamp": 1719031905790,
     "user": {
      "displayName": "Ashish Jangid",
      "userId": "15170006874299393728"
     },
     "user_tz": -330
    },
    "id": "AAnHjWvTHMKZ",
    "outputId": "f02a8ec6-1052-4a7d-ab10-dfc8b0227bb6"
   },
   "outputs": [
    {
     "data": {
      "text/plain": [
       "2.3575397"
      ]
     },
     "execution_count": 12,
     "metadata": {},
     "output_type": "execute_result"
    }
   ],
   "source": [
    "loss_fn(y_train[:1], predictions).numpy()"
   ]
  },
  {
   "cell_type": "code",
   "execution_count": null,
   "metadata": {},
   "outputs": [],
   "source": []
  },
  {
   "cell_type": "code",
   "execution_count": null,
   "metadata": {},
   "outputs": [],
   "source": []
  },
  {
   "cell_type": "markdown",
   "metadata": {
    "id": "w5HvjqdUH0WN"
   },
   "source": [
    "__Observation:__\n",
    "- Here, the value is 3.46."
   ]
  },
  {
   "cell_type": "markdown",
   "metadata": {
    "id": "XVXzZg9iJZaG"
   },
   "source": [
    "## Step 7: Compile the model\n",
    "\n",
    "- Compile the model with the Adam optimizer, the loss function, and the accuracy metric."
   ]
  },
  {
   "cell_type": "code",
   "execution_count": 14,
   "metadata": {
    "executionInfo": {
     "elapsed": 435,
     "status": "ok",
     "timestamp": 1719078659336,
     "user": {
      "displayName": "Aleena Raj",
      "userId": "16635257578699511263"
     },
     "user_tz": -330
    },
    "id": "YKnSLj5vHMKa"
   },
   "outputs": [],
   "source": [
    "model.compile(optimizer='adam',\n",
    "              loss=loss_fn,\n",
    "              metrics=['accuracy'])"
   ]
  },
  {
   "cell_type": "markdown",
   "metadata": {
    "id": "p_F7rCgcIEMG"
   },
   "source": [
    "__Observation:__\n",
    "- Here, we have used an optimizer as Adam, loss as a loss function, and metrics as accuracy."
   ]
  },
  {
   "cell_type": "markdown",
   "metadata": {
    "id": "-AnMOFCkJcgv"
   },
   "source": [
    "## Step 8: Train the model\n",
    "\n",
    "- Fit the model using the training data for 5 epochs.\n"
   ]
  },
  {
   "cell_type": "code",
   "execution_count": 15,
   "metadata": {
    "colab": {
     "base_uri": "https://localhost:8080/"
    },
    "executionInfo": {
     "elapsed": 38570,
     "status": "ok",
     "timestamp": 1719078701330,
     "user": {
      "displayName": "Aleena Raj",
      "userId": "16635257578699511263"
     },
     "user_tz": -330
    },
    "id": "5hjrBy1aHMKa",
    "outputId": "a3f5be98-4117-4cdb-dea7-29ec51ba8520"
   },
   "outputs": [
    {
     "name": "stdout",
     "output_type": "stream",
     "text": [
      "Epoch 1/5\n",
      "1875/1875 [==============================] - 3s 1ms/step - loss: 0.2970 - accuracy: 0.9140\n",
      "Epoch 2/5\n",
      "1875/1875 [==============================] - 3s 2ms/step - loss: 0.1421 - accuracy: 0.9570\n",
      "Epoch 3/5\n",
      "1875/1875 [==============================] - 3s 2ms/step - loss: 0.1069 - accuracy: 0.9675\n",
      "Epoch 4/5\n",
      "1875/1875 [==============================] - 3s 1ms/step - loss: 0.0873 - accuracy: 0.9739\n",
      "Epoch 5/5\n",
      "1875/1875 [==============================] - 3s 2ms/step - loss: 0.0754 - accuracy: 0.9761\n"
     ]
    },
    {
     "data": {
      "text/plain": [
       "<keras.src.callbacks.History at 0x1f94def6f90>"
      ]
     },
     "execution_count": 15,
     "metadata": {},
     "output_type": "execute_result"
    }
   ],
   "source": [
    "model.fit(x_train, y_train, epochs=5)"
   ]
  },
  {
   "cell_type": "markdown",
   "metadata": {
    "id": "GHvNMdBKbv1X"
   },
   "source": [
    "__Observations:__\n",
    "- The model fits the data.\n",
    "- Here, we can see that the accuracy is increased by different epochs."
   ]
  },
  {
   "cell_type": "markdown",
   "metadata": {
    "id": "m0WyyUkmJfL2"
   },
   "source": [
    "## Step 9: Evaluate the model\n",
    "\n",
    "- Evaluate the model using the testing data and print the results.\n"
   ]
  },
  {
   "cell_type": "code",
   "execution_count": 9,
   "metadata": {
    "colab": {
     "base_uri": "https://localhost:8080/"
    },
    "executionInfo": {
     "elapsed": 896,
     "status": "ok",
     "timestamp": 1719078702214,
     "user": {
      "displayName": "Aleena Raj",
      "userId": "16635257578699511263"
     },
     "user_tz": -330
    },
    "id": "VzaL0IbfHMKa",
    "outputId": "3f277a3b-24b4-40bb-e787-a91997f21270"
   },
   "outputs": [
    {
     "name": "stdout",
     "output_type": "stream",
     "text": [
      "313/313 - 1s - loss: 0.0700 - accuracy: 0.9794 - 775ms/epoch - 2ms/step\n"
     ]
    },
    {
     "data": {
      "text/plain": [
       "[0.07002254575490952, 0.9793999791145325]"
      ]
     },
     "execution_count": 9,
     "metadata": {},
     "output_type": "execute_result"
    }
   ],
   "source": [
    "model.evaluate(x_test,  y_test, verbose=2)"
   ]
  },
  {
   "cell_type": "markdown",
   "metadata": {
    "id": "VP4xBW0Bb1Np"
   },
   "source": [
    "__Observation:__\n",
    "\n",
    "- The accuracy score is 0.979, and the loss is 0.07."
   ]
  },
  {
   "cell_type": "markdown",
   "metadata": {
    "id": "U4u4wC6hJiU-"
   },
   "source": [
    "## Step 10: Create a probability model\n",
    "\n",
    "- Create a probability model by adding the softmax layer to the existing model.\n",
    "\n"
   ]
  },
  {
   "cell_type": "code",
   "execution_count": 20,
   "metadata": {
    "executionInfo": {
     "elapsed": 403,
     "status": "ok",
     "timestamp": 1719078727325,
     "user": {
      "displayName": "Aleena Raj",
      "userId": "16635257578699511263"
     },
     "user_tz": -330
    },
    "id": "DYpCfUUhHMKb"
   },
   "outputs": [],
   "source": [
    "probability_model = tf.keras.Sequential([\n",
    "  model,\n",
    "  tf.keras.layers.Softmax()\n",
    "])"
   ]
  },
  {
   "cell_type": "markdown",
   "metadata": {
    "id": "F3B91f33Aop5"
   },
   "source": [
    "- Get the predictions using the test data"
   ]
  },
  {
   "cell_type": "code",
   "execution_count": 21,
   "metadata": {
    "colab": {
     "base_uri": "https://localhost:8080/"
    },
    "executionInfo": {
     "elapsed": 447,
     "status": "ok",
     "timestamp": 1719078745221,
     "user": {
      "displayName": "Aleena Raj",
      "userId": "16635257578699511263"
     },
     "user_tz": -330
    },
    "id": "LsDR4IHiHMKb",
    "outputId": "46c17992-79de-41ad-f498-02c767c06f2e"
   },
   "outputs": [
    {
     "data": {
      "text/plain": [
       "<tf.Tensor: shape=(3, 10), dtype=float32, numpy=\n",
       "array([[0.09934868, 0.10317407, 0.10337967, 0.09677029, 0.1005985 ,\n",
       "        0.10175157, 0.09944291, 0.0982507 , 0.09834921, 0.09893443],\n",
       "       [0.09915863, 0.09630595, 0.10310828, 0.0946117 , 0.10578315,\n",
       "        0.10028901, 0.10343701, 0.10391488, 0.09556808, 0.09782334],\n",
       "       [0.10022383, 0.09772832, 0.10004133, 0.09696166, 0.10249593,\n",
       "        0.1017231 , 0.09918086, 0.10220619, 0.10094564, 0.09849311]],\n",
       "      dtype=float32)>"
      ]
     },
     "execution_count": 21,
     "metadata": {},
     "output_type": "execute_result"
    }
   ],
   "source": [
    "probability_model(x_test[:3])"
   ]
  },
  {
   "cell_type": "code",
   "execution_count": 22,
   "metadata": {},
   "outputs": [
    {
     "data": {
      "text/plain": [
       "<tf.Tensor: shape=(1, 10), dtype=float32, numpy=\n",
       "array([[0.05417335, 0.10171273, 0.10952824, 0.04761361, 0.12064556,\n",
       "        0.09092385, 0.12442694, 0.1332063 , 0.10922365, 0.10854587]],\n",
       "      dtype=float32)>"
      ]
     },
     "execution_count": 22,
     "metadata": {},
     "output_type": "execute_result"
    }
   ],
   "source": [
    "model(x_train[:1])"
   ]
  },
  {
   "cell_type": "code",
   "execution_count": 16,
   "metadata": {},
   "outputs": [
    {
     "data": {
      "text/plain": [
       "<matplotlib.image.AxesImage at 0x1f950f5e9d0>"
      ]
     },
     "execution_count": 16,
     "metadata": {},
     "output_type": "execute_result"
    },
    {
     "data": {
      "image/png": "[encoded data removed]",
      "text/plain": [
       "<Figure size 640x480 with 1 Axes>"
      ]
     },
     "metadata": {},
     "output_type": "display_data"
    }
   ],
   "source": [
    "import matplotlib.pyplot as plt \n",
    "plt.imshow(x_train[1], cmap = 'gray')"
   ]
  },
  {
   "cell_type": "markdown",
   "metadata": {
    "id": "3nKN25BRb785"
   },
   "source": [
    "__Observation:__\n",
    "- Here, we have the probabilities for the first three observations and different classes."
   ]
  }
 ],
 "metadata": {
  "colab": {
   "provenance": []
  },
  "kernelspec": {
   "display_name": "Python 3 (ipykernel)",
   "language": "python",
   "name": "python3"
  },
  "language_info": {
   "codemirror_mode": {
    "name": "ipython",
    "version": 3
   },
   "file_extension": ".py",
   "mimetype": "text/x-python",
   "name": "python",
   "nbconvert_exporter": "python",
   "pygments_lexer": "ipython3",
   "version": "3.11.4"
  }
 },
 "nbformat": 4,
 "nbformat_minor": 1
}
